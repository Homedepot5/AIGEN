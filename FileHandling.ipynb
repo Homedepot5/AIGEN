{
  "nbformat": 4,
  "nbformat_minor": 0,
  "metadata": {
    "colab": {
      "provenance": [],
      "authorship_tag": "ABX9TyM/Lf2Izd45ZCILRtjIjRNp",
      "include_colab_link": true
    },
    "kernelspec": {
      "name": "python3",
      "display_name": "Python 3"
    },
    "language_info": {
      "name": "python"
    }
  },
  "cells": [
    {
      "cell_type": "markdown",
      "metadata": {
        "id": "view-in-github",
        "colab_type": "text"
      },
      "source": [
        "<a href=\"https://colab.research.google.com/github/Homedepot5/AIGEN/blob/main/FileHandling.ipynb\" target=\"_parent\"><img src=\"https://colab.research.google.com/assets/colab-badge.svg\" alt=\"Open In Colab\"/></a>"
      ]
    },
    {
      "cell_type": "code",
      "execution_count": 29,
      "metadata": {
        "colab": {
          "base_uri": "https://localhost:8080/"
        },
        "id": "A59jLGEo8zGf",
        "outputId": "dff313f7-1121-4eb9-92d6-c36a30313a5a"
      },
      "outputs": [
        {
          "output_type": "stream",
          "name": "stdout",
          "text": [
            "36\n"
          ]
        }
      ],
      "source": [
        "#File Handling\n",
        "f = open('sample_data/sunil.txt')\n",
        "content = f.readline()\n",
        "#print(content)\n",
        "a=len(content)\n",
        "print(a)\n",
        "f.close()\n"
      ]
    },
    {
      "cell_type": "code",
      "source": [
        "f = open('sample_data/sunil.txt','w')\n",
        "f.write('sunil kumar learing filee tomarrow \\n india ia great nnation')\n",
        "f.write('sunil kumar learing filee tomarrow \\n india ia great nnation')\n",
        "f.write('\\nRemesh kumar')\n",
        "f.close()"
      ],
      "metadata": {
        "id": "4-BGDqG1Dx2z"
      },
      "execution_count": 42,
      "outputs": []
    },
    {
      "cell_type": "code",
      "source": [
        "a = input(\"Sample input:\")\n",
        "b = input(\"Sample input:\")\n",
        "#c = a+b\n",
        "#print(c)\n",
        "try:\n",
        "  c = int(a)+int(b)\n",
        "  print(c)\n",
        "except Exception as e:\n",
        "  print(e)"
      ],
      "metadata": {
        "colab": {
          "base_uri": "https://localhost:8080/"
        },
        "id": "0gc3VErycUNM",
        "outputId": "132cbf34-db30-425e-81b0-11f940584ae6"
      },
      "execution_count": 51,
      "outputs": [
        {
          "output_type": "stream",
          "name": "stdout",
          "text": [
            "Sample input:2\n",
            "Sample input:4\n",
            "6\n"
          ]
        }
      ]
    },
    {
      "cell_type": "code",
      "source": [
        "a = int(input(\"Sample input:\"))\n",
        "\n",
        "try:\n",
        " if a%2 == 0:\n",
        "  print(f\"{a} even number\")\n",
        " else:\n",
        "  print(f\"{a} odd number\")\n",
        "except Exception as e:\n",
        "  print(e)\n",
        "else:\n",
        "    print(\"else is executed\")"
      ],
      "metadata": {
        "colab": {
          "base_uri": "https://localhost:8080/"
        },
        "id": "_l7S4yGafA02",
        "outputId": "7f3158f6-ea83-4eaf-f5fb-d20266ce1f84"
      },
      "execution_count": 66,
      "outputs": [
        {
          "output_type": "stream",
          "name": "stdout",
          "text": [
            "Sample input:5\n",
            "5 odd number\n",
            "else is executed\n"
          ]
        }
      ]
    },
    {
      "cell_type": "code",
      "source": [
        "a = int(input(\"Sample input:\"))\n",
        "\n",
        "try:\n",
        " if b%2 == 0:\n",
        "  print(f\"{a} even number\")\n",
        " else:\n",
        "  print(f\"{a} odd number\")\n",
        "except Exception as e:\n",
        "  print(\"except is executed\", e)\n",
        "else :\n",
        "  print(\"esle is executed\")\n",
        "finally:\n",
        "  print(\"system is finally\")"
      ],
      "metadata": {
        "colab": {
          "base_uri": "https://localhost:8080/"
        },
        "id": "UpYOAc1Yo2c1",
        "outputId": "59d7e600-c2b4-4ce6-d912-c23c68981343"
      },
      "execution_count": 70,
      "outputs": [
        {
          "output_type": "stream",
          "name": "stdout",
          "text": [
            "Sample input:3\n",
            "except is executed not all arguments converted during string formatting\n",
            "system is finally\n"
          ]
        }
      ]
    }
  ]
}