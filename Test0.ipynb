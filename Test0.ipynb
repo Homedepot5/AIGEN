{
  "nbformat": 4,
  "nbformat_minor": 0,
  "metadata": {
    "colab": {
      "provenance": [],
      "authorship_tag": "ABX9TyM86r+PJuWkeZ5tY8wai7M3",
      "include_colab_link": true
    },
    "kernelspec": {
      "name": "python3",
      "display_name": "Python 3"
    },
    "language_info": {
      "name": "python"
    }
  },
  "cells": [
    {
      "cell_type": "markdown",
      "metadata": {
        "id": "view-in-github",
        "colab_type": "text"
      },
      "source": [
        "<a href=\"https://colab.research.google.com/github/Homedepot5/AIGEN/blob/main/Test0.ipynb\" target=\"_parent\"><img src=\"https://colab.research.google.com/assets/colab-badge.svg\" alt=\"Open In Colab\"/></a>"
      ]
    },
    {
      "cell_type": "code",
      "source": [
        "print(\"SUNIL\")"
      ],
      "metadata": {
        "colab": {
          "base_uri": "https://localhost:8080/"
        },
        "id": "UesNjh-v7uru",
        "outputId": "75e44114-ac12-4b6c-ac8e-781ab080f368"
      },
      "execution_count": 2,
      "outputs": [
        {
          "output_type": "stream",
          "name": "stdout",
          "text": [
            "SUNIL\n"
          ]
        }
      ]
    },
    {
      "cell_type": "code",
      "source": [
        "from google.colab import drive\n",
        "drive.mount('/content/drive')"
      ],
      "metadata": {
        "id": "fcriZKGH9V5z"
      },
      "execution_count": null,
      "outputs": []
    },
    {
      "cell_type": "code",
      "execution_count": 5,
      "metadata": {
        "colab": {
          "base_uri": "https://localhost:8080/"
        },
        "id": "xH40hkGa7jUi",
        "outputId": "eee35743-2681-4487-acba-5af3efc1066c"
      },
      "outputs": [
        {
          "output_type": "stream",
          "name": "stdout",
          "text": [
            "John\n"
          ]
        }
      ],
      "source": [
        "var1=\"John\"\n",
        "print(var1)"
      ]
    },
    {
      "cell_type": "code",
      "source": [
        "nu=10\n",
        "type(nu)"
      ],
      "metadata": {
        "colab": {
          "base_uri": "https://localhost:8080/"
        },
        "id": "K4hZHdfCIq3n",
        "outputId": "90c37d81-44f2-478d-b450-5ff139c74e79"
      },
      "execution_count": 6,
      "outputs": [
        {
          "output_type": "execute_result",
          "data": {
            "text/plain": [
              "int"
            ]
          },
          "metadata": {},
          "execution_count": 6
        }
      ]
    },
    {
      "cell_type": "code",
      "source": [
        "chaa =\"ufufs\"\n",
        "type(chaa)"
      ],
      "metadata": {
        "colab": {
          "base_uri": "https://localhost:8080/"
        },
        "id": "9JPVzaxJJWc-",
        "outputId": "f7033e96-6c18-478f-a76a-fbad3d47921c"
      },
      "execution_count": 9,
      "outputs": [
        {
          "output_type": "execute_result",
          "data": {
            "text/plain": [
              "str"
            ]
          },
          "metadata": {},
          "execution_count": 9
        }
      ]
    },
    {
      "cell_type": "code",
      "source": [
        "ss=3+5j\n",
        "#Arithemtic operator +,-,*,/\n",
        "type(ss)"
      ],
      "metadata": {
        "colab": {
          "base_uri": "https://localhost:8080/"
        },
        "id": "L7HL-5mgNGNw",
        "outputId": "aab0d9b9-3820-4bef-b78b-f25bdd6e0e11"
      },
      "execution_count": 13,
      "outputs": [
        {
          "output_type": "execute_result",
          "data": {
            "text/plain": [
              "complex"
            ]
          },
          "metadata": {},
          "execution_count": 13
        }
      ]
    },
    {
      "cell_type": "code",
      "source": [
        "log1 =True\n",
        "log2 = False\n",
        "\n",
        "\n",
        "\n",
        "log1 & log1"
      ],
      "metadata": {
        "colab": {
          "base_uri": "https://localhost:8080/"
        },
        "id": "Z_rSgjKBOIho",
        "outputId": "d83a72bb-0cb7-4e84-c327-846bfc1c4a75"
      },
      "execution_count": 23,
      "outputs": [
        {
          "output_type": "execute_result",
          "data": {
            "text/plain": [
              "True"
            ]
          },
          "metadata": {},
          "execution_count": 23
        }
      ]
    },
    {
      "cell_type": "code",
      "source": [
        "str3=\"sunil kumar\"\n",
        "str3"
      ],
      "metadata": {
        "colab": {
          "base_uri": "https://localhost:8080/",
          "height": 35
        },
        "id": "ohW91FMRXmKt",
        "outputId": "4c52dadc-686d-4950-8cf2-3fe6b5d6418c"
      },
      "execution_count": 24,
      "outputs": [
        {
          "output_type": "execute_result",
          "data": {
            "text/plain": [
              "'sunil kumar'"
            ],
            "application/vnd.google.colaboratory.intrinsic+json": {
              "type": "string"
            }
          },
          "metadata": {},
          "execution_count": 24
        }
      ]
    },
    {
      "cell_type": "code",
      "source": [
        "str2=''' i am\n",
        "going to\n",
        "farance tomarrow'''\n",
        "str2"
      ],
      "metadata": {
        "colab": {
          "base_uri": "https://localhost:8080/",
          "height": 35
        },
        "id": "Vbf2uxGXXmD-",
        "outputId": "b1efabb9-7a0c-41f0-d89d-9271fcb329f1"
      },
      "execution_count": 25,
      "outputs": [
        {
          "output_type": "execute_result",
          "data": {
            "text/plain": [
              "' i am \\ngoing to\\nfarance tomarrow'"
            ],
            "application/vnd.google.colaboratory.intrinsic+json": {
              "type": "string"
            }
          },
          "metadata": {},
          "execution_count": 25
        }
      ]
    },
    {
      "cell_type": "code",
      "source": [
        "str=\"sunil is my name\"\n",
        "len(str)\n",
        "print()\n",
        "#print(count(str))\n",
        "str.count\n",
        "print(str.upper())\n",
        "str.replace(\"sunil\",\"Navya\")\n"
      ],
      "metadata": {
        "colab": {
          "base_uri": "https://localhost:8080/",
          "height": 70
        },
        "id": "PMeMqpbyaG66",
        "outputId": "66ecea93-d760-4466-ed4b-38581e5d0113"
      },
      "execution_count": 49,
      "outputs": [
        {
          "output_type": "stream",
          "name": "stdout",
          "text": [
            "\n",
            "SUNIL IS MY NAME\n"
          ]
        },
        {
          "output_type": "execute_result",
          "data": {
            "text/plain": [
              "'Navya is my name'"
            ],
            "application/vnd.google.colaboratory.intrinsic+json": {
              "type": "string"
            }
          },
          "metadata": {},
          "execution_count": 49
        }
      ]
    },
    {
      "cell_type": "code",
      "source": [
        "str1=\"i am sunil navya\"\n",
        "str1.find('sunil')\n",
        "#str1"
      ],
      "metadata": {
        "colab": {
          "base_uri": "https://localhost:8080/"
        },
        "id": "Aju4TX17cvkz",
        "outputId": "a32919b3-0a93-46e4-fd31-654505b4963b"
      },
      "execution_count": 114,
      "outputs": [
        {
          "output_type": "execute_result",
          "data": {
            "text/plain": [
              "5"
            ]
          },
          "metadata": {},
          "execution_count": 114
        }
      ]
    },
    {
      "cell_type": "code",
      "source": [
        "fruit=\"i am apple, guva, banana\"\n",
        "fruit.split(',')"
      ],
      "metadata": {
        "colab": {
          "base_uri": "https://localhost:8080/"
        },
        "id": "J8KoAClWyDrQ",
        "outputId": "e303c419-7d61-412b-a381-13aa06d679cd"
      },
      "execution_count": 115,
      "outputs": [
        {
          "output_type": "execute_result",
          "data": {
            "text/plain": [
              "['i am apple', ' guva', ' banana']"
            ]
          },
          "metadata": {},
          "execution_count": 115
        }
      ]
    },
    {
      "cell_type": "code",
      "source": [
        "l1=[1,'a','balc',True,44]\n",
        "l1\n",
        "\n"
      ],
      "metadata": {
        "colab": {
          "base_uri": "https://localhost:8080/"
        },
        "id": "8-gD7DiTzlNP",
        "outputId": "44deac44-47c7-43e8-cb01-268f95a32488"
      },
      "execution_count": 64,
      "outputs": [
        {
          "output_type": "execute_result",
          "data": {
            "text/plain": [
              "[1, 'a', 'balc', True, 44]"
            ]
          },
          "metadata": {},
          "execution_count": 64
        }
      ]
    },
    {
      "cell_type": "code",
      "source": [
        "l1[2:len(l1)]"
      ],
      "metadata": {
        "colab": {
          "base_uri": "https://localhost:8080/"
        },
        "id": "JtHgHEY_2fw8",
        "outputId": "a05e95d4-4d15-45d5-fcef-822ca774a3cd"
      },
      "execution_count": 65,
      "outputs": [
        {
          "output_type": "execute_result",
          "data": {
            "text/plain": [
              "['balc', True, 44]"
            ]
          },
          "metadata": {},
          "execution_count": 65
        }
      ]
    },
    {
      "cell_type": "code",
      "source": [
        "l1[2:-1]"
      ],
      "metadata": {
        "colab": {
          "base_uri": "https://localhost:8080/"
        },
        "id": "0xjItf1A2iBm",
        "outputId": "cdd6b1ce-ae0a-462c-e00c-95bb3d522e43"
      },
      "execution_count": 67,
      "outputs": [
        {
          "output_type": "execute_result",
          "data": {
            "text/plain": [
              "['balc', True]"
            ]
          },
          "metadata": {},
          "execution_count": 67
        }
      ]
    },
    {
      "cell_type": "code",
      "source": [
        "lis=['apple',1,'sero','orange']\n",
        "lis[1]='sultal'\n",
        "lis"
      ],
      "metadata": {
        "colab": {
          "base_uri": "https://localhost:8080/"
        },
        "id": "YMztvYBLEoQn",
        "outputId": "487493d7-8f2b-40d8-b312-762c5732b257"
      },
      "execution_count": 71,
      "outputs": [
        {
          "output_type": "execute_result",
          "data": {
            "text/plain": [
              "['apple', 'sultal', 'sero', 'orange']"
            ]
          },
          "metadata": {},
          "execution_count": 71
        }
      ]
    },
    {
      "cell_type": "code",
      "source": [
        "lis.append(\"guva\")\n",
        "lis"
      ],
      "metadata": {
        "colab": {
          "base_uri": "https://localhost:8080/"
        },
        "id": "hLMpV6h6FTWD",
        "outputId": "008008c5-7079-455a-bdb8-0655a936e462"
      },
      "execution_count": 75,
      "outputs": [
        {
          "output_type": "execute_result",
          "data": {
            "text/plain": [
              "['apple', 'sultal', 'sero', 'orange', 'guva', 'guva', 'guva', 'guva']"
            ]
          },
          "metadata": {},
          "execution_count": 75
        }
      ]
    },
    {
      "cell_type": "code",
      "source": [
        "lis.pop()\n",
        "lis"
      ],
      "metadata": {
        "colab": {
          "base_uri": "https://localhost:8080/"
        },
        "id": "g1Rp-C9dF-Ul",
        "outputId": "e6f759a0-4781-4287-c595-67c5cc2a198c"
      },
      "execution_count": 85,
      "outputs": [
        {
          "output_type": "execute_result",
          "data": {
            "text/plain": [
              "['apple', 'sultal', 'sero', 'orange']"
            ]
          },
          "metadata": {},
          "execution_count": 85
        }
      ]
    },
    {
      "cell_type": "code",
      "source": [
        "lis.sort()\n",
        "lis"
      ],
      "metadata": {
        "colab": {
          "base_uri": "https://localhost:8080/"
        },
        "id": "q-6VOHhoG94K",
        "outputId": "d395f130-c110-4e32-e394-74323e0c184c"
      },
      "execution_count": 88,
      "outputs": [
        {
          "output_type": "execute_result",
          "data": {
            "text/plain": [
              "['apple', 'orange', 'sero', 'sultal']"
            ]
          },
          "metadata": {},
          "execution_count": 88
        }
      ]
    },
    {
      "cell_type": "code",
      "source": [
        "lis+l1"
      ],
      "metadata": {
        "colab": {
          "base_uri": "https://localhost:8080/"
        },
        "id": "vUupeC_HH-Rp",
        "outputId": "dc086bd9-4cfc-49ef-c02d-f36116621799"
      },
      "execution_count": 90,
      "outputs": [
        {
          "output_type": "execute_result",
          "data": {
            "text/plain": [
              "['apple', 'orange', 'sero', 'sultal', 1, 'a', 'balc', True, 44]"
            ]
          },
          "metadata": {},
          "execution_count": 90
        }
      ]
    },
    {
      "cell_type": "code",
      "source": [
        "lis*3"
      ],
      "metadata": {
        "colab": {
          "base_uri": "https://localhost:8080/"
        },
        "id": "WXCaIJGOIIC6",
        "outputId": "f078d89d-05d1-4089-f4e4-3b240c85d140"
      },
      "execution_count": 91,
      "outputs": [
        {
          "output_type": "execute_result",
          "data": {
            "text/plain": [
              "['apple',\n",
              " 'orange',\n",
              " 'sero',\n",
              " 'sultal',\n",
              " 'apple',\n",
              " 'orange',\n",
              " 'sero',\n",
              " 'sultal',\n",
              " 'apple',\n",
              " 'orange',\n",
              " 'sero',\n",
              " 'sultal']"
            ]
          },
          "metadata": {},
          "execution_count": 91
        }
      ]
    },
    {
      "cell_type": "code",
      "source": [
        "#Tuple\n",
        "tup=(1,'rake',3,'tere')\n",
        "tup\n",
        "tup[1]\n",
        "tup[2:5]\n",
        "#tup[1] = \"sunil\"\n",
        "tup"
      ],
      "metadata": {
        "colab": {
          "base_uri": "https://localhost:8080/"
        },
        "id": "DEIg42aWJeiw",
        "outputId": "ead3f229-7a27-401d-a382-4dc8b3617119"
      },
      "execution_count": 103,
      "outputs": [
        {
          "output_type": "execute_result",
          "data": {
            "text/plain": [
              "(1, 'rake', 3, 'tere')"
            ]
          },
          "metadata": {},
          "execution_count": 103
        }
      ]
    },
    {
      "cell_type": "code",
      "source": [
        "len(tup)"
      ],
      "metadata": {
        "colab": {
          "base_uri": "https://localhost:8080/"
        },
        "id": "PcCVFYUIOMtJ",
        "outputId": "3f8c1883-ba1c-4bd2-b28f-6a1afe80180d"
      },
      "execution_count": 116,
      "outputs": [
        {
          "output_type": "execute_result",
          "data": {
            "text/plain": [
              "4"
            ]
          },
          "metadata": {},
          "execution_count": 116
        }
      ]
    },
    {
      "cell_type": "code",
      "source": [
        "fruit ={\"mango\":10,\"orange\":20, \"Lichi\":40}\n",
        "fruit\n",
        "fruit.keys()\n",
        "fruit.values()\n"
      ],
      "metadata": {
        "colab": {
          "base_uri": "https://localhost:8080/"
        },
        "id": "MyYbAqdFRplp",
        "outputId": "035ba542-3432-4577-9ec2-4f39f66a39fc"
      },
      "execution_count": 128,
      "outputs": [
        {
          "output_type": "execute_result",
          "data": {
            "text/plain": [
              "dict_values([10, 20, 40])"
            ]
          },
          "metadata": {},
          "execution_count": 128
        }
      ]
    },
    {
      "cell_type": "code",
      "source": [
        "fruit[\"Tomato\"]=30\n",
        "fruit\n",
        "fruit1 ={\"lemon\":10,\"orka\":20, \"brinjal\":40}\n",
        "\n",
        "fruit1.update(fruit)\n",
        "fruit1"
      ],
      "metadata": {
        "colab": {
          "base_uri": "https://localhost:8080/"
        },
        "id": "43eEFiK5UNOm",
        "outputId": "0240c11a-31b0-40c0-9bb6-8c0e336185f7"
      },
      "execution_count": 136,
      "outputs": [
        {
          "output_type": "execute_result",
          "data": {
            "text/plain": [
              "{'lemon': 10,\n",
              " 'orka': 20,\n",
              " 'brinjal': 40,\n",
              " 'mango': 10,\n",
              " 'orange': 20,\n",
              " 'Lichi': 40,\n",
              " 'Tomato': 30}"
            ]
          },
          "metadata": {},
          "execution_count": 136
        }
      ]
    },
    {
      "cell_type": "code",
      "source": [
        "s1={1,\"a\",True,2,\"b\",False}\n",
        "s1.add(\"Hello\")\n",
        "s1"
      ],
      "metadata": {
        "colab": {
          "base_uri": "https://localhost:8080/"
        },
        "id": "H8X_VrAwZS7L",
        "outputId": "8021c988-d798-42eb-a87c-09455d49d031"
      },
      "execution_count": 141,
      "outputs": [
        {
          "output_type": "execute_result",
          "data": {
            "text/plain": [
              "{1, 2, False, 'Hello', 'a', 'b'}"
            ]
          },
          "metadata": {},
          "execution_count": 141
        }
      ]
    },
    {
      "cell_type": "code",
      "source": [
        "s1={'a','b','c','a','b'}\n",
        "s1"
      ],
      "metadata": {
        "colab": {
          "base_uri": "https://localhost:8080/"
        },
        "id": "QwutdtsLaEk6",
        "outputId": "db41d20f-9faf-481d-d299-2252596539e8"
      },
      "execution_count": 144,
      "outputs": [
        {
          "output_type": "execute_result",
          "data": {
            "text/plain": [
              "{'a', 'b', 'c'}"
            ]
          },
          "metadata": {},
          "execution_count": 144
        }
      ]
    },
    {
      "cell_type": "code",
      "source": [
        "s1={1,2,3}\n",
        "s2={'a','b','c'}\n",
        "s1.union(s2)"
      ],
      "metadata": {
        "colab": {
          "base_uri": "https://localhost:8080/"
        },
        "id": "LlEvVf2Rb4Zq",
        "outputId": "a1eca4bb-e434-49c0-94ec-24cfa940e694"
      },
      "execution_count": 147,
      "outputs": [
        {
          "output_type": "execute_result",
          "data": {
            "text/plain": [
              "{1, 2, 3, 'a', 'b', 'c'}"
            ]
          },
          "metadata": {},
          "execution_count": 147
        }
      ]
    },
    {
      "cell_type": "code",
      "source": [
        "#intersection\n",
        "s3={9,2,3,4,5}\n",
        "s4={3,5,6,9,23,1}\n",
        "s5=s3.union(s4);\n",
        "s5\n",
        "s4.intersection(s3)"
      ],
      "metadata": {
        "colab": {
          "base_uri": "https://localhost:8080/"
        },
        "id": "BJPsexJRhUy1",
        "outputId": "bbca2900-fabe-4645-8dda-ddd1afd4d784"
      },
      "execution_count": 160,
      "outputs": [
        {
          "output_type": "execute_result",
          "data": {
            "text/plain": [
              "{3, 5, 9}"
            ]
          },
          "metadata": {},
          "execution_count": 160
        }
      ]
    },
    {
      "cell_type": "code",
      "source": [
        "a=10\n",
        "b=20\n",
        "c=30\n"
      ],
      "metadata": {
        "id": "dm46PcqSdgMC"
      },
      "execution_count": 178,
      "outputs": []
    },
    {
      "cell_type": "code",
      "source": [
        "if b>a:\n",
        "  print(\"a is bigger b\")"
      ],
      "metadata": {
        "colab": {
          "base_uri": "https://localhost:8080/"
        },
        "id": "BhwsqLdqkms_",
        "outputId": "8f9371fe-5f33-4412-f4a1-38569927decd"
      },
      "execution_count": 176,
      "outputs": [
        {
          "output_type": "stream",
          "name": "stdout",
          "text": [
            "a is bigger b\n"
          ]
        }
      ]
    },
    {
      "cell_type": "code",
      "source": [
        "if a>b:\n",
        "   print( \"b is bigger the a\")"
      ],
      "metadata": {
        "id": "c7egZc4Ukvpz"
      },
      "execution_count": 175,
      "outputs": []
    },
    {
      "cell_type": "code",
      "source": [
        "if a>b:\n",
        "  print(\"print sunil\")\n",
        "else:\n",
        "  print(\"print kumar\")"
      ],
      "metadata": {
        "colab": {
          "base_uri": "https://localhost:8080/"
        },
        "id": "LEwU65r-mfON",
        "outputId": "29b68889-80a3-476d-82e4-a73a1cd569e0"
      },
      "execution_count": 177,
      "outputs": [
        {
          "output_type": "stream",
          "name": "stdout",
          "text": [
            "print kumar\n"
          ]
        }
      ]
    },
    {
      "cell_type": "code",
      "source": [
        "if(a>b) & (a>c):\n",
        "  print(\"A is greator\")\n",
        "elif(b>a) & (b>c):\n",
        "  print(\"B is greator\")\n",
        "else:\n",
        "  print(\"C is greator\")"
      ],
      "metadata": {
        "colab": {
          "base_uri": "https://localhost:8080/"
        },
        "id": "5548paHSoAhW",
        "outputId": "0d257e7b-6367-45b6-cedf-d76e6179a1cd"
      },
      "execution_count": 181,
      "outputs": [
        {
          "output_type": "stream",
          "name": "stdout",
          "text": [
            "C is greator\n"
          ]
        }
      ]
    },
    {
      "cell_type": "code",
      "source": [
        "tupe={\"a\",\"b\",\"c\"}\n",
        "if \"a\" in tupe:\n",
        "  print(\"Yes \")"
      ],
      "metadata": {
        "colab": {
          "base_uri": "https://localhost:8080/"
        },
        "id": "tTHKQMFio9hD",
        "outputId": "8ab01186-6211-4307-c9df-b981b645ba37"
      },
      "execution_count": 186,
      "outputs": [
        {
          "output_type": "stream",
          "name": "stdout",
          "text": [
            "Yes \n"
          ]
        }
      ]
    },
    {
      "cell_type": "code",
      "source": [
        "lis=[\"a\",\"b\",\"d\"]\n",
        "lis[0:len(lis)]"
      ],
      "metadata": {
        "colab": {
          "base_uri": "https://localhost:8080/"
        },
        "id": "yW0YuFNgqdv6",
        "outputId": "d13621f5-d37c-4705-d4e9-861e8cfabc1f"
      },
      "execution_count": 193,
      "outputs": [
        {
          "output_type": "execute_result",
          "data": {
            "text/plain": [
              "['a', 'b', 'd']"
            ]
          },
          "metadata": {},
          "execution_count": 193
        }
      ]
    },
    {
      "cell_type": "code",
      "source": [
        "d1="
      ],
      "metadata": {
        "id": "3eGgMA3Us23g"
      },
      "execution_count": null,
      "outputs": []
    }
  ]
}